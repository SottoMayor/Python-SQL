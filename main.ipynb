{
 "cells": [
  {
   "cell_type": "markdown",
   "metadata": {},
   "source": [
    "## You need install the 'Pyodbc' and the 'SQLite3 ODBC Driver'\n",
    "\n",
    "#### pip install pyodbc"
   ]
  },
  {
   "cell_type": "code",
   "execution_count": 22,
   "metadata": {},
   "outputs": [
    {
     "name": "stdout",
     "output_type": "stream",
     "text": [
      "All right... We are good to go!\n",
      "[(1, 'NATHANIEL FORD', 'GENERAL MANAGER-METROPOLITAN TRANSIT AUTHORITY', 167411.18, 0.0, 400184.25, None, 567595.43, 567595.43, 2011, '', 'San Francisco', ''), (2, 'GARY JIMENEZ', 'CAPTAIN III (POLICE DEPARTMENT)', 155966.02, 245131.88, 137811.38, None, 538909.28, 538909.28, 2011, '', 'San Francisco', ''), (3, 'ALBERT PARDINI', 'CAPTAIN III (POLICE DEPARTMENT)', 212739.13, 106088.18, 16452.6, None, 335279.91, 335279.91, 2011, '', 'San Francisco', ''), (4, 'CHRISTOPHER CHONG', 'WIRE ROPE CABLE MAINTENANCE MECHANIC', 77916.0, 56120.71, 198306.9, None, 332343.61, 332343.61, 2011, '', 'San Francisco', ''), (5, 'PATRICK GARDNER', 'DEPUTY CHIEF OF DEPARTMENT,(FIRE DEPARTMENT)', 134401.6, 9737.0, 182234.59, None, 326373.19, 326373.19, 2011, '', 'San Francisco', ''), (6, 'DAVID SULLIVAN', 'ASSISTANT DEPUTY CHIEF II', 118602.0, 8601.0, 189082.74, None, 316285.74, 316285.74, 2011, '', 'San Francisco', ''), (7, 'ALSON LEE', 'BATTALION CHIEF, (FIRE DEPARTMENT)', 92492.01, 89062.9, 134426.14, None, 315981.05, 315981.05, 2011, '', 'San Francisco', ''), (8, 'DAVID KUSHNER', 'DEPUTY DIRECTOR OF INVESTMENTS', 256576.96, 0.0, 51322.5, None, 307899.46, 307899.46, 2011, '', 'San Francisco', ''), (9, 'MICHAEL MORRIS', 'BATTALION CHIEF, (FIRE DEPARTMENT)', 176932.64, 86362.68, 40132.23, None, 303427.55, 303427.55, 2011, '', 'San Francisco', ''), (10, 'JOANNE HAYES-WHITE', 'CHIEF OF DEPARTMENT, (FIRE DEPARTMENT)', 285262.0, 0.0, 17115.73, None, 302377.73, 302377.73, 2011, '', 'San Francisco', '')]\n",
      "Connection was closed successfully!\n"
     ]
    }
   ],
   "source": [
    "import pyodbc\n",
    "\n",
    "#print(pyodbc.drivers())\n",
    "\n",
    "# Setting up the connection\n",
    "connection_data = (\"Driver={SQLite3 ODBC Driver};Server=localhost;Database=salarios.sqlite\")\n",
    "connection = pyodbc.connect(connection_data)\n",
    "print('All right... We are good to go!')\n",
    "\n",
    "# Defining the cursor\n",
    "cursor = connection.cursor()\n",
    "\n",
    "# Write the code goes here.....\n",
    "cursor.execute(\"select * from salaries\")\n",
    "consulta = cursor.fetchall()[:10]\n",
    "print(consulta)\n",
    "\n",
    "# Closing the connection...\n",
    "cursor.close()\n",
    "connection.close()\n",
    "print('Connection was closed successfully!')"
   ]
  },
  {
   "cell_type": "code",
   "execution_count": 25,
   "metadata": {},
   "outputs": [
    {
     "name": "stdout",
     "output_type": "stream",
     "text": [
      "All right... We are good to go!\n",
      "The record that has just been added -> (350, 'Frevo do David', 10)\n",
      "Connection was closed successfully!\n"
     ]
    }
   ],
   "source": [
    "# CREATE...\n",
    "\n",
    "import pyodbc\n",
    "\n",
    "#print(pyodbc.drivers())\n",
    "\n",
    "# Setting up the connection\n",
    "connection_data = (\"Driver={SQLite3 ODBC Driver};Server=localhost;Database=chinook.db\")\n",
    "connection = pyodbc.connect(connection_data)\n",
    "print('All right... We are good to go!')\n",
    "\n",
    "# Defining the cursor\n",
    "cursor = connection.cursor()\n",
    "\n",
    "# Write the code goes here.....\n",
    "cursor.execute(\"\"\"\n",
    "    INSERT INTO albums (Title, ArtistId) VALUES ('Frevo do David', 10)\n",
    "\"\"\")\n",
    "cursor.commit() # This makes the data persistence...\n",
    "\n",
    "cursor.execute(\"\"\"\n",
    "    SELECT * FROM albums ORDER BY AlbumId DESC\n",
    "\"\"\")\n",
    "query = cursor.fetchall()[0]\n",
    "print(f'The record that has just been added -> {query}')\n",
    "\n",
    "# Closing the connection...\n",
    "cursor.close()\n",
    "connection.close()\n",
    "print('Connection was closed successfully!')"
   ]
  },
  {
   "cell_type": "code",
   "execution_count": 6,
   "metadata": {},
   "outputs": [
    {
     "name": "stdout",
     "output_type": "stream",
     "text": [
      "All right... We are good to go!\n",
      "\n"
     ]
    },
    {
     "ename": "AttributeError",
     "evalue": "module 'pandas' has no attribute 'Dataframe'",
     "output_type": "error",
     "traceback": [
      "\u001b[1;31m---------------------------------------------------------------------------\u001b[0m",
      "\u001b[1;31mAttributeError\u001b[0m                            Traceback (most recent call last)",
      "\u001b[1;32m~\\AppData\\Local\\Temp\\ipykernel_20100\\537420833.py\u001b[0m in \u001b[0;36m<module>\u001b[1;34m\u001b[0m\n\u001b[0;32m     22\u001b[0m \u001b[1;31m# Pandas and python manipulation\u001b[0m\u001b[1;33m\u001b[0m\u001b[1;33m\u001b[0m\u001b[0m\n\u001b[0;32m     23\u001b[0m \u001b[1;32mimport\u001b[0m \u001b[0mpandas\u001b[0m \u001b[1;32mas\u001b[0m \u001b[0mpd\u001b[0m\u001b[1;33m\u001b[0m\u001b[1;33m\u001b[0m\u001b[0m\n\u001b[1;32m---> 24\u001b[1;33m \u001b[0msalaries_df\u001b[0m \u001b[1;33m=\u001b[0m \u001b[0mpd\u001b[0m\u001b[1;33m.\u001b[0m\u001b[0mDataframe\u001b[0m\u001b[1;33m.\u001b[0m\u001b[0mfrom_records\u001b[0m\u001b[1;33m(\u001b[0m\u001b[0mquery\u001b[0m\u001b[1;33m,\u001b[0m \u001b[0mcolumns\u001b[0m\u001b[1;33m=\u001b[0m\u001b[0mcolumns\u001b[0m\u001b[1;33m)\u001b[0m\u001b[1;33m\u001b[0m\u001b[1;33m\u001b[0m\u001b[0m\n\u001b[0m\u001b[0;32m     25\u001b[0m \u001b[0mdisplay\u001b[0m\u001b[1;33m(\u001b[0m\u001b[0msalaries_df\u001b[0m\u001b[1;33m)\u001b[0m\u001b[1;33m\u001b[0m\u001b[1;33m\u001b[0m\u001b[0m\n\u001b[0;32m     26\u001b[0m \u001b[1;33m\u001b[0m\u001b[0m\n",
      "\u001b[1;32mA:\\Anaconda\\lib\\site-packages\\pandas\\__init__.py\u001b[0m in \u001b[0;36m__getattr__\u001b[1;34m(name)\u001b[0m\n\u001b[0;32m    259\u001b[0m         \u001b[1;32mreturn\u001b[0m \u001b[0m_SparseArray\u001b[0m\u001b[1;33m\u001b[0m\u001b[1;33m\u001b[0m\u001b[0m\n\u001b[0;32m    260\u001b[0m \u001b[1;33m\u001b[0m\u001b[0m\n\u001b[1;32m--> 261\u001b[1;33m     \u001b[1;32mraise\u001b[0m \u001b[0mAttributeError\u001b[0m\u001b[1;33m(\u001b[0m\u001b[1;34mf\"module 'pandas' has no attribute '{name}'\"\u001b[0m\u001b[1;33m)\u001b[0m\u001b[1;33m\u001b[0m\u001b[1;33m\u001b[0m\u001b[0m\n\u001b[0m\u001b[0;32m    262\u001b[0m \u001b[1;33m\u001b[0m\u001b[0m\n\u001b[0;32m    263\u001b[0m \u001b[1;33m\u001b[0m\u001b[0m\n",
      "\u001b[1;31mAttributeError\u001b[0m: module 'pandas' has no attribute 'Dataframe'"
     ]
    }
   ],
   "source": [
    "# Reading data with Pyodbc e opening it with pandas\n",
    "\n",
    "import pyodbc\n",
    "\n",
    "#print(pyodbc.drivers())\n",
    "\n",
    "# Setting up the connection\n",
    "connection_data = (\"Driver={SQLite3 ODBC Driver};Server=localhost;Database=salarios.sqlite\")\n",
    "connection = pyodbc.connect(connection_data)\n",
    "print('All right... We are good to go!\\n')\n",
    "\n",
    "# Defining the cursor\n",
    "cursor = connection.cursor()\n",
    "\n",
    "# Write the code goes here.....\n",
    "\n",
    "# Fetching data\n",
    "cursor.execute(\"select * from salaries\")\n",
    "query = cursor.fetchall() # OMG!! Huge amount of data!\n",
    "columns = [record[0] for record in cursor.description]\n",
    "\n",
    "# Pandas and python manipulation\n",
    "import pandas as pd\n",
    "salaries_df = pd.Dataframe.from_records(query, columns=columns)\n",
    "display(salaries_df)\n",
    "\n",
    "\n",
    "# Closing the connection...\n",
    "cursor.close()\n",
    "connection.close()\n",
    "print('\\nConnection was closed successfully!')"
   ]
  }
 ],
 "metadata": {
  "kernelspec": {
   "display_name": "Python 3 (ipykernel)",
   "language": "python",
   "name": "python3"
  },
  "language_info": {
   "codemirror_mode": {
    "name": "ipython",
    "version": 3
   },
   "file_extension": ".py",
   "mimetype": "text/x-python",
   "name": "python",
   "nbconvert_exporter": "python",
   "pygments_lexer": "ipython3",
   "version": "3.9.13"
  }
 },
 "nbformat": 4,
 "nbformat_minor": 4
}
