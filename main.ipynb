{
 "cells": [
  {
   "cell_type": "markdown",
   "metadata": {},
   "source": [
    "## You need install the 'Pyodbc' and the 'SQLite3 ODBC Driver'\n",
    "\n",
    "#### pip install pyodbc"
   ]
  },
  {
   "cell_type": "code",
   "execution_count": 22,
   "metadata": {},
   "outputs": [
    {
     "name": "stdout",
     "output_type": "stream",
     "text": [
      "All right... We are good to go!\n",
      "[(1, 'NATHANIEL FORD', 'GENERAL MANAGER-METROPOLITAN TRANSIT AUTHORITY', 167411.18, 0.0, 400184.25, None, 567595.43, 567595.43, 2011, '', 'San Francisco', ''), (2, 'GARY JIMENEZ', 'CAPTAIN III (POLICE DEPARTMENT)', 155966.02, 245131.88, 137811.38, None, 538909.28, 538909.28, 2011, '', 'San Francisco', ''), (3, 'ALBERT PARDINI', 'CAPTAIN III (POLICE DEPARTMENT)', 212739.13, 106088.18, 16452.6, None, 335279.91, 335279.91, 2011, '', 'San Francisco', ''), (4, 'CHRISTOPHER CHONG', 'WIRE ROPE CABLE MAINTENANCE MECHANIC', 77916.0, 56120.71, 198306.9, None, 332343.61, 332343.61, 2011, '', 'San Francisco', ''), (5, 'PATRICK GARDNER', 'DEPUTY CHIEF OF DEPARTMENT,(FIRE DEPARTMENT)', 134401.6, 9737.0, 182234.59, None, 326373.19, 326373.19, 2011, '', 'San Francisco', ''), (6, 'DAVID SULLIVAN', 'ASSISTANT DEPUTY CHIEF II', 118602.0, 8601.0, 189082.74, None, 316285.74, 316285.74, 2011, '', 'San Francisco', ''), (7, 'ALSON LEE', 'BATTALION CHIEF, (FIRE DEPARTMENT)', 92492.01, 89062.9, 134426.14, None, 315981.05, 315981.05, 2011, '', 'San Francisco', ''), (8, 'DAVID KUSHNER', 'DEPUTY DIRECTOR OF INVESTMENTS', 256576.96, 0.0, 51322.5, None, 307899.46, 307899.46, 2011, '', 'San Francisco', ''), (9, 'MICHAEL MORRIS', 'BATTALION CHIEF, (FIRE DEPARTMENT)', 176932.64, 86362.68, 40132.23, None, 303427.55, 303427.55, 2011, '', 'San Francisco', ''), (10, 'JOANNE HAYES-WHITE', 'CHIEF OF DEPARTMENT, (FIRE DEPARTMENT)', 285262.0, 0.0, 17115.73, None, 302377.73, 302377.73, 2011, '', 'San Francisco', '')]\n",
      "Connection was closed successfully!\n"
     ]
    }
   ],
   "source": [
    "import pyodbc\n",
    "\n",
    "#print(pyodbc.drivers())\n",
    "\n",
    "# Setting up the connection\n",
    "connection_data = (\"Driver={SQLite3 ODBC Driver};Server=localhost;Database=salarios.sqlite\")\n",
    "connection = pyodbc.connect(connection_data)\n",
    "print('All right... We are good to go!')\n",
    "\n",
    "# Defining the cursor\n",
    "cursor = connection.cursor()\n",
    "\n",
    "# Write the code goes here.....\n",
    "cursor.execute(\"select * from salaries\")\n",
    "consulta = cursor.fetchall()[:10]\n",
    "print(consulta)\n",
    "\n",
    "# Closing the connection...\n",
    "cursor.close()\n",
    "connection.close()\n",
    "print('Connection was closed successfully!')"
   ]
  },
  {
   "cell_type": "code",
   "execution_count": 24,
   "metadata": {},
   "outputs": [
    {
     "name": "stdout",
     "output_type": "stream",
     "text": [
      "All right... We are good to go!\n",
      "The record that has just been added -> [(349, 'Lambada do David', 7), (348, 'Arrocha do David', 4), (347, 'Koyaanisqatsi (Soundtrack from the Motion Picture)', 275), (346, 'Mozart: Chamber Music', 274), (345, \"Monteverdi: L'Orfeo\", 273), (344, \"Schubert: The Late String Quartets & String Quintet (3 CD's)\", 272), (343, 'Respighi:Pines of Rome', 226), (342, 'Locatelli: Concertos for Violin, Strings and Continuo, Vol. 3', 271), (341, 'Great Recordings of the Century - Shubert: Schwanengesang, 4 Lieder', 270), (340, \"Liszt - 12 Études D'Execution Transcendante\", 269), (339, \"Great Recordings of the Century: Paganini's 24 Caprices\", 268), (338, 'Nielsen: The Six Symphonies', 267), (337, 'Szymanowski: Piano Works, Vol. 1', 266), (336, 'Prokofiev: Symphony No.5 & Stravinksy: Le Sacre Du Printemps', 248), (335, 'J.S. Bach: Chaconne, Suite in E Minor, Partita in E Major & Prelude, Fugue and Allegro', 265), (334, 'Weill: The Seven Deadly Sins', 264), (333, 'Purcell: Music for the Queen Mary', 263), (332, 'The Ultimate Relexation Album', 262), (331, 'Purcell: The Fairy Queen', 261), (330, 'Górecki: Symphony No. 3', 260), (329, 'South American Getaway', 259), (328, 'Charpentier: Divertissements, Airs & Concerts', 258), (327, 'Bach: Orchestral Suites Nos. 1 - 4', 257), (326, \"Mendelssohn: A Midsummer Night's Dream\", 256), (325, 'Bartok: Violin & Viola Concertos', 255), (324, \"Beethoven: Symphony No. 6 'Pastoral' Etc.\", 254), (323, 'Carried to Dust (Bonus Track Version)', 253), (322, 'Frank', 252), (321, 'Back to Black', 252), (320, 'Mozart: Symphonies Nos. 40 & 41', 248), (319, 'Armada: Music from the Courts of England and Spain', 251), (318, 'SCRIABIN: Vers la flamme', 250), (317, 'Mozart Gala: Famous Arias', 249), (316, 'Grieg: Peer Gynt Suites & Sibelius: Pelléas et Mélisande', 248), (315, 'Handel: Music for the Royal Fireworks (Original Version 1749)', 208), (314, 'English Renaissance', 247), (313, 'Bizet: Carmen Highlights', 246), (312, 'Berlioz: Symphonie Fantastique', 245), (311, 'Strauss: Waltzes', 226), (310, 'Prokofiev: Romeo & Juliet', 245), (309, 'Palestrina: Missa Papae Marcelli & Allegri: Miserere', 244), (308, \"Tchaikovsky: 1812 Festival Overture, Op.49, Capriccio Italien & Beethoven: Wellington's Victory\", 243), (307, 'Adams, John: The Chairman Dances', 242), (306, 'Elgar: Cello Concerto & Vaughan Williams: Fantasias', 241), (305, 'Great Recordings of the Century - Mahler: Das Lied von der Erde', 240), (304, 'Beethoven Piano Sonatas: Moonlight & Pastorale', 238), (303, 'Sibelius: Finlandia', 237), (302, 'Mascagni: Cavalleria Rusticana', 236), (301, 'Chopin: Piano Concertos Nos. 1 & 2', 235), (300, 'Bach: The Brandenburg Concertos', 234), (299, 'Scheherazade', 233), (298, 'Prokofiev: Symphony No.1', 232), (297, 'Bach: Toccata & Fugue in D Minor', 231), (296, 'A Copland Celebration, Vol. I', 230), (295, 'Carmina Burana', 229), (294, \"Great Performances - Barber's Adagio and Other Romantic Favorites for Strings\", 228), (293, \"Pavarotti's Opera Made Easy\", 227), (292, 'Holst: The Planets, Op. 32 & Vaughan Williams: Fantasies', 226), (291, 'Puccini: Madama Butterfly - Highlights', 225), (290, 'The Last Night of the Proms', 224), (289, 'Tchaikovsky: The Nutcracker', 223), (288, 'Fauré: Requiem, Ravel: Pavane & Others', 222), (287, 'Wagner: Favourite Overtures', 221), (286, 'Great Opera Choruses', 220), (285, 'A Soprano Inspired', 219), (284, 'Beethoven: Symhonies Nos. 5 & 6', 218), (283, 'Haydn: Symphonies 99 - 104', 217), (282, 'Mozart: Wind Concertos', 216), (281, 'Sir Neville Marriner: A Celebration', 215), (280, 'The World of Classical Favourites', 214), (279, 'Handel: The Messiah (Highlights)', 213), (278, 'Bach: The Cello Suites', 212), (277, 'Bach: Goldberg Variations', 211), (276, 'Bach: Violin Concertos', 210), (275, 'Vivaldi: The Four Seasons', 209), (274, 'Pachelbel: Canon & Gigue', 208), (273, 'Allegri: Miserere', 207), (272, 'Adorate Deum: Gregorian Chant from the Proper of the Mass', 206), (271, 'Revelations', 8), (270, 'Carry On', 205), (269, 'Temple of the Dog', 204), (268, 'The Best of Beethoven', 203), (267, 'Worlds', 202), (266, 'Duos II', 201), (265, 'Every Kind of Light', 200), (264, 'Realize', 199), (263, 'Muso Ko', 198), (262, 'Quiet Songs', 197), (261, 'LOST, Season 4', 149), (260, 'Cake: B-Sides and Rarities', 196), (259, 'Radio Brasil (O Som da Jovem Vanguarda) - Seleccao de Henrique Amaro', 36), (258, 'House of Pain', 180), (257, '20th Century Masters - The Millennium Collection: The Best of Scorpions', 179), (256, 'Speak of the Devil', 114), (255, 'Instant Karma: The Amnesty International Campaign to Save Darfur', 150), (254, 'Aquaman', 159), (253, 'Battlestar Galactica (Classic), Season 1', 158), (252, 'Un-Led-Ed', 157), (251, 'The Office, Season 3', 156), (250, 'The Office, Season 2', 156), (249, 'The Office, Season 1', 156), (248, 'Ao Vivo [IMPORT]', 155), (247, 'Vinicius De Moraes', 72), (246, 'Contraband', 153), (245, 'Van Halen III', 152), (244, 'Van Halen', 152), (243, 'The Best Of Van Halen, Vol. I', 152), (242, 'Diver Down', 152), (241, 'UB40 The Best Of - Volume Two [UK]', 151), (240, 'Zooropa', 150), (239, 'War', 150), (238, 'The Best Of 1980-1990', 150), (237, 'Rattle And Hum', 150), (236, 'Pop', 150), (235, 'How To Dismantle An Atomic Bomb', 150), (234, 'B-Sides 1980-1990', 150), (233, \"All That You Can't Leave Behind\", 150), (232, 'Achtung Baby', 150), (231, 'Lost, Season 2', 149), (230, 'Lost, Season 1', 149), (229, 'Lost, Season 3', 149), (228, 'Heroes, Season 1', 148), (227, 'Battlestar Galactica, Season 3', 147), (226, 'Battlestar Galactica: The Story So Far', 147), (225, 'Volume Dois', 146), (224, 'Acústico', 146), (223, 'Serie Sem Limite (Disc 2)', 145), (222, 'Serie Sem Limite (Disc 1)', 145), (221, 'My Generation - The Very Best Of The Who', 144), (220, 'Transmission', 143), (219, 'Tangents', 143), (218, 'Voodoo Lounge', 142), (217, 'No Security', 142), (216, 'Hot Rocks, 1964-1971 (Disc 1)', 142), (215, 'The Police Greatest Hits', 141), (214, 'The Doors', 140), (213, 'Pure Cult: The Best Of The Cult (For Rockers, Ravers, Lovers & Sinners) [UK]', 139), (212, 'Beyond Good And Evil', 139), (211, 'The Singles', 138), (210, 'Live [Disc 2]', 137), (209, 'Live [Disc 1]', 137), (208, '[1997] Black Light Syndrome', 136), (207, 'Mezmerize', 135), (206, 'Core', 134), (205, 'In Step', 133), (204, 'Morning Dance', 53), (203, 'A-Sides', 132), (202, 'Rotten Apples: Greatest Hits', 131), (201, 'Judas 0: B-Sides and Rarities', 131), (200, 'O Samba Poconé', 130), (199, 'Maquinarama', 130), (198, 'Santana Live', 59), (197, 'Santana - As Years Go By', 59), (196, 'Retrospective I (1974-1980)', 128), (195, 'Californication', 127), (194, 'By The Way', 127), (193, 'Blood Sugar Sex Magik', 127), (192, 'Raul Seixas', 126), (191, 'Cesta Básica', 125), (190, 'The Best Of R.E.M.: The IRS Years', 124), (189, 'New Adventures In Hi-Fi', 124), (188, 'Green', 124), (187, 'Out Of Time', 122), (186, 'News Of The World', 51), (185, 'Greatest Hits I', 51), (184, 'Os Cães Ladram Mas A Caravana Não Pára', 121), (183, 'Dark Side Of The Moon', 120), (182, 'Vs.', 118), (181, 'Ten', 118), (180, 'Riot Act', 118), (179, 'Pearl Jam', 118), (178, 'Live On Two Legs [Live]', 118), (177, 'The Beast Live', 117), (176, 'Original Soundtracks 1', 116), (175, 'Walking Into Clarksdale', 115), (174, 'Tribute', 114), (173, 'No More Tears (Remastered)', 114), (172, 'Diary of a Madman (Remastered)', 114), (171, 'Blizzard of Ozz', 114), (170, 'Bark at the Moon (Remastered)', 114), (169, 'Arquivo Os Paralamas Do Sucesso', 113), (168, 'Arquivo II', 113), (167, 'Acústico MTV', 113), (166, 'Olodum', 112), (165, 'Compositores', 111), (164, 'Nevermind', 110), (163, 'From The Muddy Banks Of The Wishkah [Live]', 110), (162, 'Motley Crue Greatest Hits', 109), (161, 'Demorou...', 108), (160, 'Ace Of Spades', 106), (159, 'Minas', 42), (158, 'Milton Nascimento Ao Vivo', 42), (157, 'Miles Ahead', 68), (156, '...And Justice For All', 50), (155, 'St. Anger', 50), (154, 'Ride The Lightning', 50), (153, 'ReLoad', 50), (152, 'Master Of Puppets', 50), (151, 'Load', 50), (150, \"Kill 'Em All\", 50), (149, 'Garage Inc. (Disc 2)', 50), (148, 'Black Album', 50), (147, 'The Best Of Men At Work', 105), (146, 'Seek And Shall Find: More Of The Best (1963-1981)', 104), (145, 'Barulhinho Bom', 103), (144, 'Misplaced Childhood', 102), (143, 'Lulu Santos - RCA 100 Anos De Música - Álbum 02', 101), (142, 'Lulu Santos - RCA 100 Anos De Música - Álbum 01', 101), (141, 'Greatest Hits', 100), (140, 'Mais Do Mesmo', 99), (139, 'A TempestadeTempestade Ou O Livro Dos Dias', 99), (138, 'The Song Remains The Same (Disc 2)', 22), (137, 'The Song Remains The Same (Disc 1)', 22), (136, 'Presence', 22), (135, 'Physical Graffiti [Disc 2]', 22), (134, 'Led Zeppelin III', 22), (133, 'Led Zeppelin II', 22), (132, 'Led Zeppelin I', 22), (131, 'IV', 22), (130, 'In Through The Out Door', 22), (129, 'Houses Of The Holy', 22), (128, 'Coda', 22), (127, 'BBC Sessions [Disc 2] [Live]', 22), (126, 'Unplugged [Live]', 52), (125, 'Living After Midnight', 98), (124, 'Cafezinho', 97), (123, 'Jota Quest-1995', 96), (122, 'Jorge Ben Jor 25 Anos', 46), (121, 'Surfing with the Alien (Remastered)', 95), (120, 'Are You Experienced?', 94), (119, 'Get Born', 93), (118, 'The Return Of The Space Cowboy', 92), (117, 'Synkronized', 92), (116, 'Emergency On Planet Earth', 92), (115, 'Sex Machine', 91), (114, 'Virtual XI', 90), (113, 'The X Factor', 90), (112, 'The Number of The Beast', 90), (111, 'Somewhere in Time', 90), (110, 'Seventh Son of a Seventh Son', 90), (109, 'Rock In Rio [CD2]', 90), (108, 'Rock In Rio [CD1]', 90), (107, 'Powerslave', 90), (106, 'Piece Of Mind', 90), (105, 'No Prayer For The Dying', 90), (104, 'Live At Donington 1992 (Disc 2)', 90), (103, 'Live At Donington 1992 (Disc 1)', 90), (102, 'Live After Death', 90), (101, 'Killers', 90), (100, 'Iron Maiden', 90), (99, 'Fear Of The Dark', 90), (98, 'Dance Of Death', 90), (97, 'Brave New World', 90), (96, 'A Real Live One', 90), (95, 'A Real Dead One', 90), (94, 'A Matter of Life and Death', 90), (93, 'Blue Moods', 89), (92, 'Use Your Illusion II', 88), (91, 'Use Your Illusion I', 88), (90, 'Appetite for Destruction', 88), (89, 'American Idiot', 54), (88, 'Faceless', 87), (87, 'Quanta Gente Veio ver--Bônus De Carnaval', 27), (86, 'Quanta Gente Veio Ver (Live)', 27), (85, 'As Canções de Eu Tu Eles', 27), (84, 'Roda De Funk', 86), (83, 'My Way: The Best Of Frank Sinatra [Disc 1]', 85), (82, 'The Colour And The Shape', 84), (81, 'One By One', 84), (80, 'In Your Honor [Disc 2]', 84), (79, 'In Your Honor [Disc 1]', 84), (78, 'Deixa Entrar', 83), (77, 'The Real Thing', 82), (76, 'King For A Day Fool For A Lifetime', 82), (75, 'Angel Dust', 82), (74, 'Album Of The Year', 82), (73, 'Unplugged', 81), (72, 'The Cream Of Clapton', 81), (71, 'Elis Regina-Minha História', 41), (70, 'Djavan Ao Vivo - Vol. 1', 80), (69, 'Djavan Ao Vivo - Vol. 02', 80), (68, 'Outbreak', 79), (67, \"Vault: Def Leppard's Greatest Hits\", 78), (66, 'The Battle Rages On', 58), (65, 'Stormbringer', 58), (64, 'Slaves And Masters', 58), (63, 'Purpendicular', 58), (62, 'Machine Head', 58), (61, \"Knocking at Your Back Door: The Best Of Deep Purple in the 80's\", 58), (60, 'Fireball', 58), (59, 'Deep Purple In Rock', 58), (58, 'Come Taste The Band', 58), (57, 'Cássia Eller - Sem Limite [Disc 1]', 77), (56, 'Cássia Eller - Coleção Sem Limite [Disc 2]', 77), (55, 'Chronicle, Vol. 2', 76), (54, 'Chronicle, Vol. 1', 76), (53, 'Vozes do MPB', 21), (52, 'Vinícius De Moraes - Sem Limite', 70), (51, \"Up An' Atom\", 69), (50, 'The Final Concerts (Disc 2)', 58), (49, 'The Essential Miles Davis [Disc 2]', 68), (48, 'The Essential Miles Davis [Disc 1]', 68), (47, 'The Best of Ed Motta', 37), (46, 'Supernatural', 59), (45, 'Sambas De Enredo 2001', 21), (44, 'Physical Graffiti [Disc 1]', 22), (43, 'MK III The Final Concerts [Disc 1]', 58), (42, 'Minha História', 57), (41, 'Meus Momentos', 56), (40, 'Into The Light', 55), (39, 'International Superhits', 54), (38, 'Heart of the Night', 53), (37, 'Greatest Kiss', 52), (36, 'Greatest Hits II', 51), (35, 'Garage Inc. (Disc 1)', 50), (34, 'Chill: Brazil (Disc 2)', 6), (33, 'Chill: Brazil (Disc 1)', 24), (32, 'Carnaval 2001', 21), (31, 'Bongo Fury', 23), (30, 'BBC Sessions [Disc 1] [Live]', 22), (29, 'Axé Bahia 2001', 21), (28, 'Na Pista', 20), (27, 'Cidade Negra - Hits', 19), (26, 'Acústico MTV [Live]', 19), (25, 'Da Lama Ao Caos', 18), (24, 'Afrociberdelia', 18), (23, 'Minha Historia', 17), (22, 'Sozinho Remix Ao Vivo', 16), (21, 'Prenda Minha', 16), (20, 'The Best Of Buddy Guy - The Millenium Collection', 15), (19, 'Chemical Wedding', 14), (18, 'Body Count', 13), (17, 'Black Sabbath Vol. 4 (Remaster)', 12), (16, 'Black Sabbath', 12), (15, 'Alcohol Fueled Brewtality Live! [Disc 2]', 11), (14, 'Alcohol Fueled Brewtality Live! [Disc 1]', 11), (13, 'The Best Of Billy Cobham', 10), (12, 'BackBeat Soundtrack', 9), (11, 'Out Of Exile', 8), (10, 'Audioslave', 8), (9, 'Plays Metallica By Four Cellos', 7), (8, 'Warner 25 Anos', 6), (7, 'Facelift', 5), (6, 'Jagged Little Pill', 4), (5, 'Big Ones', 3), (4, 'Let There Be Rock', 1), (3, 'Restless and Wild', 2), (2, 'Balls to the Wall', 2), (1, 'For Those About To Rock We Salute You', 1)]\n",
      "Connection was closed successfully!\n"
     ]
    }
   ],
   "source": [
    "# CREATE...\n",
    "\n",
    "import pyodbc\n",
    "\n",
    "#print(pyodbc.drivers())\n",
    "\n",
    "# Setting up the connection\n",
    "connection_data = (\"Driver={SQLite3 ODBC Driver};Server=localhost;Database=chinook.db\")\n",
    "connection = pyodbc.connect(connection_data)\n",
    "print('All right... We are good to go!')\n",
    "\n",
    "# Defining the cursor\n",
    "cursor = connection.cursor()\n",
    "\n",
    "# Write the code goes here.....\n",
    "cursor.execute(\"\"\"\n",
    "    INSERT INTO albums (Title, ArtistId) VALUES ('Lambada do David', 7)\n",
    "\"\"\")\n",
    "cursor.commit() # This make the data persistence...\n",
    "\n",
    "cursor.execute(\"\"\"\n",
    "    SELECT * FROM albums ORDER BY AlbumId DESC\n",
    "\"\"\")\n",
    "query = cursor.fetchall()[0]\n",
    "print(f'The record that has just been added -> {query}')\n",
    "\n",
    "# Closing the connection...\n",
    "cursor.close()\n",
    "connection.close()\n",
    "print('Connection was closed successfully!')"
   ]
  }
 ],
 "metadata": {
  "kernelspec": {
   "display_name": "Python 3 (ipykernel)",
   "language": "python",
   "name": "python3"
  },
  "language_info": {
   "codemirror_mode": {
    "name": "ipython",
    "version": 3
   },
   "file_extension": ".py",
   "mimetype": "text/x-python",
   "name": "python",
   "nbconvert_exporter": "python",
   "pygments_lexer": "ipython3",
   "version": "3.9.13"
  }
 },
 "nbformat": 4,
 "nbformat_minor": 4
}
